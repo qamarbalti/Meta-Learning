{
  "cells": [
    {
      "cell_type": "markdown",
      "metadata": {
        "id": "KywYpFQqB773"
      },
      "source": [
        "# پروژه بخش فرایادگیری"
      ]
    },
    {
      "cell_type": "markdown",
      "metadata": {
        "id": "cG8Auio4CIxI"
      },
      "source": [
        "ضمن آرزوی توفیق در آخرین پروژه درس شناسایی الگو برای تمامی دانشجویان، پیشنهاد می‌شود پیاده‌سازی پروژه در محیط نوت‌بوک انجام شود. ارائه حضوری پروژه عمده‌ترین بخش از نمره را در بر دارد. به همین دلیل تسلط شما به مفاهیم و سازوکار پیاده‌‌سازیتان تعیین‌کننده خواهد بود.\n",
        "\n",
        "مقاله‌های رفرنس برای این پروژه\n",
        "\n",
        "Prototypical Networks (Snell et al., 2017)\n",
        "\n",
        "Proto-MAML (Triantafillou et al., 2020)\n",
        "\n",
        "است.\n",
        "\n",
        "وظیفه‌های نمونه‌محدود کلاس‌بندی در این پروژه مورد استفاده قرار می‌گیرند. مجموعه آموزش و مجموعه آزمون مجموعه‌هایی با کلاس‌های متمایز از هم هستند. به طور مثال مدل برای یک مسأله کلاس‌بندی دودویی، در مرحله آموزش روی تفکیک کلاس‌های سگ-گربه و توپ-گل متمرکز است. اما در مرحله آزمون، مدل برای تفکیک ابر-ساحل مورد ارزیابی قرار می‌گیرد. لازم به‌ذکر است که تعداد نمونه‌های داده در مرحله آزمون محدود است.\n",
        "\n",
        "برای شروع کار کتاب‌خانه‌های زیر را نصب داشته باشید. روی کگل و گوگل‌لب بیشتر کتابخانه‌ها به صورت پیش‌فرض قرار دارند.\n",
        "\n",
        "\n"
      ]
    },
    {
      "cell_type": "markdown",
      "metadata": {
        "id": "luArBELICcQo"
      },
      "source": [
        "با استفاده از تورچ‌ویژن، دیتاست سی‌فار۱۰۰ اضافه شده است\n",
        "\n",
        "\n"
      ]
    },
    {
      "cell_type": "markdown",
      "metadata": {
        "id": "WGY-JSTKCtOw"
      },
      "source": [
        "در نوت‌بوک کگل، سمت راست بالای صفحه روی گزینه سه‌نقطه کلیک کنید و در قسمت\n",
        "\n",
        "Accelerator\n",
        "\n",
        "یکی از جی‌پی‌یو‌ها را انتخاب کنید و سپس سل زیر را اجرا کنید.\n",
        "\n",
        "در گوگل کولب فرآیند\n",
        "\n",
        "Edit --> Notebook settings --> Hardware accelerator\n",
        "\n",
        "را طی کنید"
      ]
    },
    {
      "cell_type": "code",
      "source": [
        "## Standard libraries\n",
        "import os\n",
        "import numpy as np\n",
        "import random\n",
        "import json\n",
        "from PIL import Image\n",
        "from collections import defaultdict\n",
        "from statistics import mean, stdev\n",
        "from copy import deepcopy\n",
        "\n",
        "## Imports for plotting\n",
        "import matplotlib.pyplot as plt\n",
        "plt.set_cmap('cividis')\n",
        "%matplotlib inline\n",
        "from IPython.display import set_matplotlib_formats\n",
        "set_matplotlib_formats('svg', 'pdf') # For export\n",
        "import matplotlib\n",
        "matplotlib.rcParams['lines.linewidth'] = 2.0\n",
        "import seaborn as sns\n",
        "sns.reset_orig()\n",
        "\n",
        "## tqdm for loading bars\n",
        "from tqdm.auto import tqdm\n",
        "\n",
        "## PyTorch\n",
        "import torch\n",
        "import torch.nn as nn\n",
        "import torch.nn.functional as F\n",
        "import torch.utils.data as data\n",
        "import torch.optim as optim\n",
        "\n",
        "## Torchvision\n",
        "import torchvision\n",
        "from torchvision.datasets import CIFAR100, SVHN\n",
        "from torchvision import transforms\n",
        "\n",
        "# PyTorch Lightning\n",
        "try:\n",
        "    import pytorch_lightning as pl\n",
        "except ModuleNotFoundError: # Google Colab does not have PyTorch Lightning installed by default. Hence, we do it here if necessary\n",
        "    !pip install --quiet pytorch-lightning>=1.4\n",
        "    import pytorch_lightning as pl\n",
        "from pytorch_lightning.callbacks import LearningRateMonitor, ModelCheckpoint\n",
        "\n",
        "# Import tensorboard\n",
        "%load_ext tensorboard\n",
        "\n",
        "# Path to the folder where the datasets are/should be downloaded (e.g. CIFAR10)\n",
        "DATASET_PATH = \"/content/\"\n",
        "# Path to the folder where the pretrained models are saved\n",
        "CHECKPOINT_PATH = \"/content/\"\n",
        "# Setting the seed\n",
        "pl.seed_everything(42)\n",
        "\n",
        "# Ensure that all operations are deterministic on GPU (if used) for reproducibility\n",
        "torch.backends.cudnn.deterministic = True\n",
        "torch.backends.cudnn.benchmark = False\n",
        "\n",
        "device = torch.device(\"cuda:0\") if torch.cuda.is_available() else torch.device(\"cpu\")\n",
        "print(\"Device:\", device)"
      ],
      "metadata": {
        "colab": {
          "base_uri": "https://localhost:8080/",
          "height": 124
        },
        "id": "qxLx6MgjIoj6",
        "outputId": "d8383983-a659-4b62-9811-32cbe0d9cfa3"
      },
      "execution_count": 2,
      "outputs": [
        {
          "output_type": "stream",
          "name": "stderr",
          "text": [
            "<ipython-input-2-688cd9559864>:16: DeprecationWarning: `set_matplotlib_formats` is deprecated since IPython 7.23, directly use `matplotlib_inline.backend_inline.set_matplotlib_formats()`\n",
            "  set_matplotlib_formats('svg', 'pdf') # For export\n",
            "INFO:lightning_fabric.utilities.seed:Seed set to 42\n"
          ]
        },
        {
          "output_type": "stream",
          "name": "stdout",
          "text": [
            "Device: cpu\n"
          ]
        },
        {
          "output_type": "display_data",
          "data": {
            "text/plain": [
              "<Figure size 640x480 with 0 Axes>"
            ]
          },
          "metadata": {}
        }
      ]
    },
    {
      "cell_type": "markdown",
      "metadata": {
        "id": "UDWsmEkCFMq2"
      },
      "source": [
        " در بخش زیر مدل از پیش آموزش‌دیده\n",
        "\n",
        "ProtoNet\n",
        "\n",
        "را دانلود کنید. با استفاده از مدل ازپیش آموزش‌دیده در زمان صرفه‌جویی می‌شود\n",
        "در فاز دوم پروژه نیز به مدل از پیش آموزش‌دیده\n",
        "\n",
        "ProtoMAMAL\n",
        "\n",
        "نیاز می‌شود که در همین سلول آن را نیز دانلود می‌کنیم"
      ]
    },
    {
      "cell_type": "code",
      "execution_count": 3,
      "metadata": {
        "colab": {
          "base_uri": "https://localhost:8080/"
        },
        "id": "vRVm6jRGFNpO",
        "outputId": "41ff5420-98a0-4033-ffed-56a7cfda2c35"
      },
      "outputs": [
        {
          "output_type": "stream",
          "name": "stdout",
          "text": [
            "Downloading https://raw.githubusercontent.com/phlippe/saved_models/main/tutorial16/ProtoNet.ckpt...\n",
            "Downloading https://raw.githubusercontent.com/phlippe/saved_models/main/tutorial16/ProtoMAML.ckpt...\n",
            "Downloading https://raw.githubusercontent.com/phlippe/saved_models/main/tutorial16/tensorboards/ProtoNet/events.out.tfevents.ProtoNet...\n",
            "Downloading https://raw.githubusercontent.com/phlippe/saved_models/main/tutorial16/tensorboards/ProtoMAML/events.out.tfevents.ProtoMAML...\n",
            "Downloading https://raw.githubusercontent.com/phlippe/saved_models/main/tutorial16/protomaml_fewshot.json...\n",
            "Downloading https://raw.githubusercontent.com/phlippe/saved_models/main/tutorial16/protomaml_svhn_fewshot.json...\n"
          ]
        }
      ],
      "source": [
        "import urllib.request\n",
        "from urllib.error import HTTPError\n",
        "# Github URL where saved models are stored for this tutorial\n",
        "base_url = \"https://raw.githubusercontent.com/phlippe/saved_models/main/tutorial16/\"\n",
        "# Files to download\n",
        "pretrained_files = [\"ProtoNet.ckpt\", \"ProtoMAML.ckpt\",\n",
        "                    \"tensorboards/ProtoNet/events.out.tfevents.ProtoNet\",\n",
        "                    \"tensorboards/ProtoMAML/events.out.tfevents.ProtoMAML\",\n",
        "                    \"protomaml_fewshot.json\",\n",
        "                    \"protomaml_svhn_fewshot.json\"]\n",
        "# Create checkpoint path if it doesn't exist yet\n",
        "os.makedirs(CHECKPOINT_PATH, exist_ok=True)\n",
        "\n",
        "# For each file, check whether it already exists. If not, try downloading it.\n",
        "for file_name in pretrained_files:\n",
        "    file_path = os.path.join(CHECKPOINT_PATH, file_name)\n",
        "    if \"/\" in file_name:\n",
        "        os.makedirs(file_path.rsplit(\"/\",1)[0], exist_ok=True)\n",
        "    if not os.path.isfile(file_path):\n",
        "        file_url = base_url + file_name\n",
        "        print(f\"Downloading {file_url}...\")\n",
        "        try:\n",
        "            urllib.request.urlretrieve(file_url, file_path)\n",
        "        except HTTPError as e:\n",
        "            print(\"Something went wrong. Please try to download the file from the GDrive folder, or contact the author with the full output including the following error:\\n\", e)"
      ]
    },
    {
      "cell_type": "markdown",
      "metadata": {
        "id": "EdSfVX6eFW9W"
      },
      "source": [
        "# کلاس‌بندی نمونه‌محدود\n",
        "\n",
        " در این نوت بوک از\n",
        "\n",
        " CIFAR100\n",
        "\n",
        "  استفاده خواهیم کرد\n",
        "\n",
        "  CIFAR100\n",
        "\n",
        "  دارای ۱۰۰ کلاس با ۶۰۰ تصویر در اندازه ۳۲*۳۲ است.\n",
        "\n",
        "   به جای تقسیم نمونه‌ها به سه مجموعه آموزش، اعتبارسنجی و تست، آنها را به کلاس  افراز می‌کنیم. به این شکل که ۸۰ کلاس برای آموزش، ۱۰ کلاس برای اعتبارسنجی، و ۱۰ کلاس برای تست تخصیص می‌دهیم. هدف کلی ما به دست آوردن مدلی است که بتواند بین ۱۰ کلاس تست با دیدن نمونه‌های بسیار کمی تمایز قائل شود. ابتدا،  مجموعه‌داده را بارگیری می‌کنیم و چند نمونه را نمایش می‌دهیم.\n",
        "  "
      ]
    },
    {
      "cell_type": "code",
      "execution_count": 4,
      "metadata": {
        "colab": {
          "base_uri": "https://localhost:8080/"
        },
        "id": "seUKAo5pFTpY",
        "outputId": "3db7432d-25da-4bba-96be-38a3d86ee47e"
      },
      "outputs": [
        {
          "output_type": "stream",
          "name": "stdout",
          "text": [
            "Downloading https://www.cs.toronto.edu/~kriz/cifar-100-python.tar.gz to /content/cifar-100-python.tar.gz\n"
          ]
        },
        {
          "output_type": "stream",
          "name": "stderr",
          "text": [
            "100%|██████████| 169001437/169001437 [00:05<00:00, 29526266.70it/s]\n"
          ]
        },
        {
          "output_type": "stream",
          "name": "stdout",
          "text": [
            "Extracting /content/cifar-100-python.tar.gz to /content/\n",
            "Files already downloaded and verified\n",
            "Files already downloaded and verified\n"
          ]
        }
      ],
      "source": [
        "# Loading CIFAR100 dataset\n",
        "CIFAR_train_set = CIFAR100(root=DATASET_PATH, train=True, download=True, transform=transforms.ToTensor())\n",
        "CIFAR_test_set = CIFAR100(root=DATASET_PATH, train=False, download=True, transform=transforms.ToTensor())\n",
        "CIFAR_val_set = CIFAR100(root=DATASET_PATH, train=False, download=True, transform=transforms.ToTensor())"
      ]
    },
    {
      "cell_type": "markdown",
      "metadata": {
        "id": "dkR8k43EFaRI"
      },
      "source": [
        "## کامل کنید\n",
        "\n",
        "  .به صورت رندوم برخی از نمونه‌های دیتاست سی‌فار۱۰۰ را نمایش دهید\n",
        "  به جای علامت ؟ کد لازم را پیاده‌سازی کنید"
      ]
    },
    {
      "cell_type": "code",
      "source": [
        "# Visualize some examples\n",
        "NUM_IMAGES = 12\n",
        "CIFAR_images = [CIFAR_train_set[i][0] for i in range(NUM_IMAGES)]\n",
        "img_grid = torchvision.utils.make_grid(CIFAR_images, nrow=6, normalize=True, pad_value=0.9)\n",
        "img_grid = img_grid.permute(1, 2, 0)\n",
        "\n",
        "plt.figure(figsize=(8, 8))\n",
        "plt.title(\"Image examples of the CIFAR100 dataset\")\n",
        "plt.imshow(img_grid)\n",
        "plt.axis('off')\n",
        "plt.show()\n",
        "plt.close()\n",
        "\n"
      ],
      "metadata": {
        "colab": {
          "base_uri": "https://localhost:8080/",
          "height": 263
        },
        "id": "TKedzd3jIWp5",
        "outputId": "39a8f90c-6898-4e65-a127-82e8754b7b9a"
      },
      "execution_count": 6,
      "outputs": [
        {
          "output_type": "display_data",
          "data": {
            "text/plain": [
              "<Figure size 800x800 with 1 Axes>"
            ],
            "image/svg+xml": "<?xml version=\"1.0\" encoding=\"utf-8\" standalone=\"no\"?>\n<!DOCTYPE svg PUBLIC \"-//W3C//DTD SVG 1.1//EN\"\n  \"http://www.w3.org/Graphics/SVG/1.1/DTD/svg11.dtd\">\n<svg xmlns:xlink=\"http://www.w3.org/1999/xlink\" width=\"460.8pt\" height=\"181.207445pt\" viewBox=\"0 0 460.8 181.207445\" xmlns=\"http://www.w3.org/2000/svg\" version=\"1.1\">\n <metadata>\n  <rdf:RDF xmlns:dc=\"http://purl.org/dc/elements/1.1/\" xmlns:cc=\"http://creativecommons.org/ns#\" xmlns:rdf=\"http://www.w3.org/1999/02/22-rdf-syntax-ns#\">\n   <cc:Work>\n    <dc:type rdf:resource=\"http://purl.org/dc/dcmitype/StillImage\"/>\n    <dc:date>2024-01-14T19:05:42.302657</dc:date>\n    <dc:format>image/svg+xml</dc:format>\n    <dc:creator>\n     <cc:Agent>\n      <dc:title>Matplotlib v3.7.1, https://matplotlib.org/</dc:title>\n     </cc:Agent>\n    </dc:creator>\n   </cc:Work>\n  </rdf:RDF>\n </metadata>\n <defs>\n  <style type=\"text/css\">*{stroke-linejoin: round; stroke-linecap: butt}</style>\n </defs>\n <g id=\"figure_1\">\n  <g id=\"patch_1\">\n   <path d=\"M 0 181.207445 \nL 460.8 181.207445 \nL 460.8 0 \nL 0 0 \nz\n\" style=\"fill: #ffffff\"/>\n  </g>\n  <g id=\"axes_1\">\n   <g clip-path=\"url(#pe7df1fdcf8)\">\n    <image xlink:href=\"data:image/png;base64,\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\" id=\"imageac8553db5e\" transform=\"scale(1 -1) translate(0 -151.92)\" x=\"7.2\" y=\"-22.087445\" width=\"446.4\" height=\"151.92\"/>\n   </g>\n   <g id=\"text_1\">\n    <!-- Image examples of the CIFAR100 dataset -->\n    <g transform=\"translate(106.216875 16.318125) scale(0.12 -0.12)\">\n     <defs>\n      <path id=\"DejaVuSans-49\" d=\"M 628 4666 \nL 1259 4666 \nL 1259 0 \nL 628 0 \nL 628 4666 \nz\n\" transform=\"scale(0.015625)\"/>\n      <path id=\"DejaVuSans-6d\" d=\"M 3328 2828 \nQ 3544 3216 3844 3400 \nQ 4144 3584 4550 3584 \nQ 5097 3584 5394 3201 \nQ 5691 2819 5691 2113 \nL 5691 0 \nL 5113 0 \nL 5113 2094 \nQ 5113 2597 4934 2840 \nQ 4756 3084 4391 3084 \nQ 3944 3084 3684 2787 \nQ 3425 2491 3425 1978 \nL 3425 0 \nL 2847 0 \nL 2847 2094 \nQ 2847 2600 2669 2842 \nQ 2491 3084 2119 3084 \nQ 1678 3084 1418 2786 \nQ 1159 2488 1159 1978 \nL 1159 0 \nL 581 0 \nL 581 3500 \nL 1159 3500 \nL 1159 2956 \nQ 1356 3278 1631 3431 \nQ 1906 3584 2284 3584 \nQ 2666 3584 2933 3390 \nQ 3200 3197 3328 2828 \nz\n\" transform=\"scale(0.015625)\"/>\n      <path id=\"DejaVuSans-61\" d=\"M 2194 1759 \nQ 1497 1759 1228 1600 \nQ 959 1441 959 1056 \nQ 959 750 1161 570 \nQ 1363 391 1709 391 \nQ 2188 391 2477 730 \nQ 2766 1069 2766 1631 \nL 2766 1759 \nL 2194 1759 \nz\nM 3341 1997 \nL 3341 0 \nL 2766 0 \nL 2766 531 \nQ 2569 213 2275 61 \nQ 1981 -91 1556 -91 \nQ 1019 -91 701 211 \nQ 384 513 384 1019 \nQ 384 1609 779 1909 \nQ 1175 2209 1959 2209 \nL 2766 2209 \nL 2766 2266 \nQ 2766 2663 2505 2880 \nQ 2244 3097 1772 3097 \nQ 1472 3097 1187 3025 \nQ 903 2953 641 2809 \nL 641 3341 \nQ 956 3463 1253 3523 \nQ 1550 3584 1831 3584 \nQ 2591 3584 2966 3190 \nQ 3341 2797 3341 1997 \nz\n\" transform=\"scale(0.015625)\"/>\n      <path id=\"DejaVuSans-67\" d=\"M 2906 1791 \nQ 2906 2416 2648 2759 \nQ 2391 3103 1925 3103 \nQ 1463 3103 1205 2759 \nQ 947 2416 947 1791 \nQ 947 1169 1205 825 \nQ 1463 481 1925 481 \nQ 2391 481 2648 825 \nQ 2906 1169 2906 1791 \nz\nM 3481 434 \nQ 3481 -459 3084 -895 \nQ 2688 -1331 1869 -1331 \nQ 1566 -1331 1297 -1286 \nQ 1028 -1241 775 -1147 \nL 775 -588 \nQ 1028 -725 1275 -790 \nQ 1522 -856 1778 -856 \nQ 2344 -856 2625 -561 \nQ 2906 -266 2906 331 \nL 2906 616 \nQ 2728 306 2450 153 \nQ 2172 0 1784 0 \nQ 1141 0 747 490 \nQ 353 981 353 1791 \nQ 353 2603 747 3093 \nQ 1141 3584 1784 3584 \nQ 2172 3584 2450 3431 \nQ 2728 3278 2906 2969 \nL 2906 3500 \nL 3481 3500 \nL 3481 434 \nz\n\" transform=\"scale(0.015625)\"/>\n      <path id=\"DejaVuSans-65\" d=\"M 3597 1894 \nL 3597 1613 \nL 953 1613 \nQ 991 1019 1311 708 \nQ 1631 397 2203 397 \nQ 2534 397 2845 478 \nQ 3156 559 3463 722 \nL 3463 178 \nQ 3153 47 2828 -22 \nQ 2503 -91 2169 -91 \nQ 1331 -91 842 396 \nQ 353 884 353 1716 \nQ 353 2575 817 3079 \nQ 1281 3584 2069 3584 \nQ 2775 3584 3186 3129 \nQ 3597 2675 3597 1894 \nz\nM 3022 2063 \nQ 3016 2534 2758 2815 \nQ 2500 3097 2075 3097 \nQ 1594 3097 1305 2825 \nQ 1016 2553 972 2059 \nL 3022 2063 \nz\n\" transform=\"scale(0.015625)\"/>\n      <path id=\"DejaVuSans-20\" transform=\"scale(0.015625)\"/>\n      <path id=\"DejaVuSans-78\" d=\"M 3513 3500 \nL 2247 1797 \nL 3578 0 \nL 2900 0 \nL 1881 1375 \nL 863 0 \nL 184 0 \nL 1544 1831 \nL 300 3500 \nL 978 3500 \nL 1906 2253 \nL 2834 3500 \nL 3513 3500 \nz\n\" transform=\"scale(0.015625)\"/>\n      <path id=\"DejaVuSans-70\" d=\"M 1159 525 \nL 1159 -1331 \nL 581 -1331 \nL 581 3500 \nL 1159 3500 \nL 1159 2969 \nQ 1341 3281 1617 3432 \nQ 1894 3584 2278 3584 \nQ 2916 3584 3314 3078 \nQ 3713 2572 3713 1747 \nQ 3713 922 3314 415 \nQ 2916 -91 2278 -91 \nQ 1894 -91 1617 61 \nQ 1341 213 1159 525 \nz\nM 3116 1747 \nQ 3116 2381 2855 2742 \nQ 2594 3103 2138 3103 \nQ 1681 3103 1420 2742 \nQ 1159 2381 1159 1747 \nQ 1159 1113 1420 752 \nQ 1681 391 2138 391 \nQ 2594 391 2855 752 \nQ 3116 1113 3116 1747 \nz\n\" transform=\"scale(0.015625)\"/>\n      <path id=\"DejaVuSans-6c\" d=\"M 603 4863 \nL 1178 4863 \nL 1178 0 \nL 603 0 \nL 603 4863 \nz\n\" transform=\"scale(0.015625)\"/>\n      <path id=\"DejaVuSans-73\" d=\"M 2834 3397 \nL 2834 2853 \nQ 2591 2978 2328 3040 \nQ 2066 3103 1784 3103 \nQ 1356 3103 1142 2972 \nQ 928 2841 928 2578 \nQ 928 2378 1081 2264 \nQ 1234 2150 1697 2047 \nL 1894 2003 \nQ 2506 1872 2764 1633 \nQ 3022 1394 3022 966 \nQ 3022 478 2636 193 \nQ 2250 -91 1575 -91 \nQ 1294 -91 989 -36 \nQ 684 19 347 128 \nL 347 722 \nQ 666 556 975 473 \nQ 1284 391 1588 391 \nQ 1994 391 2212 530 \nQ 2431 669 2431 922 \nQ 2431 1156 2273 1281 \nQ 2116 1406 1581 1522 \nL 1381 1569 \nQ 847 1681 609 1914 \nQ 372 2147 372 2553 \nQ 372 3047 722 3315 \nQ 1072 3584 1716 3584 \nQ 2034 3584 2315 3537 \nQ 2597 3491 2834 3397 \nz\n\" transform=\"scale(0.015625)\"/>\n      <path id=\"DejaVuSans-6f\" d=\"M 1959 3097 \nQ 1497 3097 1228 2736 \nQ 959 2375 959 1747 \nQ 959 1119 1226 758 \nQ 1494 397 1959 397 \nQ 2419 397 2687 759 \nQ 2956 1122 2956 1747 \nQ 2956 2369 2687 2733 \nQ 2419 3097 1959 3097 \nz\nM 1959 3584 \nQ 2709 3584 3137 3096 \nQ 3566 2609 3566 1747 \nQ 3566 888 3137 398 \nQ 2709 -91 1959 -91 \nQ 1206 -91 779 398 \nQ 353 888 353 1747 \nQ 353 2609 779 3096 \nQ 1206 3584 1959 3584 \nz\n\" transform=\"scale(0.015625)\"/>\n      <path id=\"DejaVuSans-66\" d=\"M 2375 4863 \nL 2375 4384 \nL 1825 4384 \nQ 1516 4384 1395 4259 \nQ 1275 4134 1275 3809 \nL 1275 3500 \nL 2222 3500 \nL 2222 3053 \nL 1275 3053 \nL 1275 0 \nL 697 0 \nL 697 3053 \nL 147 3053 \nL 147 3500 \nL 697 3500 \nL 697 3744 \nQ 697 4328 969 4595 \nQ 1241 4863 1831 4863 \nL 2375 4863 \nz\n\" transform=\"scale(0.015625)\"/>\n      <path id=\"DejaVuSans-74\" d=\"M 1172 4494 \nL 1172 3500 \nL 2356 3500 \nL 2356 3053 \nL 1172 3053 \nL 1172 1153 \nQ 1172 725 1289 603 \nQ 1406 481 1766 481 \nL 2356 481 \nL 2356 0 \nL 1766 0 \nQ 1100 0 847 248 \nQ 594 497 594 1153 \nL 594 3053 \nL 172 3053 \nL 172 3500 \nL 594 3500 \nL 594 4494 \nL 1172 4494 \nz\n\" transform=\"scale(0.015625)\"/>\n      <path id=\"DejaVuSans-68\" d=\"M 3513 2113 \nL 3513 0 \nL 2938 0 \nL 2938 2094 \nQ 2938 2591 2744 2837 \nQ 2550 3084 2163 3084 \nQ 1697 3084 1428 2787 \nQ 1159 2491 1159 1978 \nL 1159 0 \nL 581 0 \nL 581 4863 \nL 1159 4863 \nL 1159 2956 \nQ 1366 3272 1645 3428 \nQ 1925 3584 2291 3584 \nQ 2894 3584 3203 3211 \nQ 3513 2838 3513 2113 \nz\n\" transform=\"scale(0.015625)\"/>\n      <path id=\"DejaVuSans-43\" d=\"M 4122 4306 \nL 4122 3641 \nQ 3803 3938 3442 4084 \nQ 3081 4231 2675 4231 \nQ 1875 4231 1450 3742 \nQ 1025 3253 1025 2328 \nQ 1025 1406 1450 917 \nQ 1875 428 2675 428 \nQ 3081 428 3442 575 \nQ 3803 722 4122 1019 \nL 4122 359 \nQ 3791 134 3420 21 \nQ 3050 -91 2638 -91 \nQ 1578 -91 968 557 \nQ 359 1206 359 2328 \nQ 359 3453 968 4101 \nQ 1578 4750 2638 4750 \nQ 3056 4750 3426 4639 \nQ 3797 4528 4122 4306 \nz\n\" transform=\"scale(0.015625)\"/>\n      <path id=\"DejaVuSans-46\" d=\"M 628 4666 \nL 3309 4666 \nL 3309 4134 \nL 1259 4134 \nL 1259 2759 \nL 3109 2759 \nL 3109 2228 \nL 1259 2228 \nL 1259 0 \nL 628 0 \nL 628 4666 \nz\n\" transform=\"scale(0.015625)\"/>\n      <path id=\"DejaVuSans-41\" d=\"M 2188 4044 \nL 1331 1722 \nL 3047 1722 \nL 2188 4044 \nz\nM 1831 4666 \nL 2547 4666 \nL 4325 0 \nL 3669 0 \nL 3244 1197 \nL 1141 1197 \nL 716 0 \nL 50 0 \nL 1831 4666 \nz\n\" transform=\"scale(0.015625)\"/>\n      <path id=\"DejaVuSans-52\" d=\"M 2841 2188 \nQ 3044 2119 3236 1894 \nQ 3428 1669 3622 1275 \nL 4263 0 \nL 3584 0 \nL 2988 1197 \nQ 2756 1666 2539 1819 \nQ 2322 1972 1947 1972 \nL 1259 1972 \nL 1259 0 \nL 628 0 \nL 628 4666 \nL 2053 4666 \nQ 2853 4666 3247 4331 \nQ 3641 3997 3641 3322 \nQ 3641 2881 3436 2590 \nQ 3231 2300 2841 2188 \nz\nM 1259 4147 \nL 1259 2491 \nL 2053 2491 \nQ 2509 2491 2742 2702 \nQ 2975 2913 2975 3322 \nQ 2975 3731 2742 3939 \nQ 2509 4147 2053 4147 \nL 1259 4147 \nz\n\" transform=\"scale(0.015625)\"/>\n      <path id=\"DejaVuSans-31\" d=\"M 794 531 \nL 1825 531 \nL 1825 4091 \nL 703 3866 \nL 703 4441 \nL 1819 4666 \nL 2450 4666 \nL 2450 531 \nL 3481 531 \nL 3481 0 \nL 794 0 \nL 794 531 \nz\n\" transform=\"scale(0.015625)\"/>\n      <path id=\"DejaVuSans-30\" d=\"M 2034 4250 \nQ 1547 4250 1301 3770 \nQ 1056 3291 1056 2328 \nQ 1056 1369 1301 889 \nQ 1547 409 2034 409 \nQ 2525 409 2770 889 \nQ 3016 1369 3016 2328 \nQ 3016 3291 2770 3770 \nQ 2525 4250 2034 4250 \nz\nM 2034 4750 \nQ 2819 4750 3233 4129 \nQ 3647 3509 3647 2328 \nQ 3647 1150 3233 529 \nQ 2819 -91 2034 -91 \nQ 1250 -91 836 529 \nQ 422 1150 422 2328 \nQ 422 3509 836 4129 \nQ 1250 4750 2034 4750 \nz\n\" transform=\"scale(0.015625)\"/>\n      <path id=\"DejaVuSans-64\" d=\"M 2906 2969 \nL 2906 4863 \nL 3481 4863 \nL 3481 0 \nL 2906 0 \nL 2906 525 \nQ 2725 213 2448 61 \nQ 2172 -91 1784 -91 \nQ 1150 -91 751 415 \nQ 353 922 353 1747 \nQ 353 2572 751 3078 \nQ 1150 3584 1784 3584 \nQ 2172 3584 2448 3432 \nQ 2725 3281 2906 2969 \nz\nM 947 1747 \nQ 947 1113 1208 752 \nQ 1469 391 1925 391 \nQ 2381 391 2643 752 \nQ 2906 1113 2906 1747 \nQ 2906 2381 2643 2742 \nQ 2381 3103 1925 3103 \nQ 1469 3103 1208 2742 \nQ 947 2381 947 1747 \nz\n\" transform=\"scale(0.015625)\"/>\n     </defs>\n     <use xlink:href=\"#DejaVuSans-49\"/>\n     <use xlink:href=\"#DejaVuSans-6d\" x=\"29.492188\"/>\n     <use xlink:href=\"#DejaVuSans-61\" x=\"126.904297\"/>\n     <use xlink:href=\"#DejaVuSans-67\" x=\"188.183594\"/>\n     <use xlink:href=\"#DejaVuSans-65\" x=\"251.660156\"/>\n     <use xlink:href=\"#DejaVuSans-20\" x=\"313.183594\"/>\n     <use xlink:href=\"#DejaVuSans-65\" x=\"344.970703\"/>\n     <use xlink:href=\"#DejaVuSans-78\" x=\"404.744141\"/>\n     <use xlink:href=\"#DejaVuSans-61\" x=\"463.923828\"/>\n     <use xlink:href=\"#DejaVuSans-6d\" x=\"525.203125\"/>\n     <use xlink:href=\"#DejaVuSans-70\" x=\"622.615234\"/>\n     <use xlink:href=\"#DejaVuSans-6c\" x=\"686.091797\"/>\n     <use xlink:href=\"#DejaVuSans-65\" x=\"713.875\"/>\n     <use xlink:href=\"#DejaVuSans-73\" x=\"775.398438\"/>\n     <use xlink:href=\"#DejaVuSans-20\" x=\"827.498047\"/>\n     <use xlink:href=\"#DejaVuSans-6f\" x=\"859.285156\"/>\n     <use xlink:href=\"#DejaVuSans-66\" x=\"920.466797\"/>\n     <use xlink:href=\"#DejaVuSans-20\" x=\"955.671875\"/>\n     <use xlink:href=\"#DejaVuSans-74\" x=\"987.458984\"/>\n     <use xlink:href=\"#DejaVuSans-68\" x=\"1026.667969\"/>\n     <use xlink:href=\"#DejaVuSans-65\" x=\"1090.046875\"/>\n     <use xlink:href=\"#DejaVuSans-20\" x=\"1151.570312\"/>\n     <use xlink:href=\"#DejaVuSans-43\" x=\"1183.357422\"/>\n     <use xlink:href=\"#DejaVuSans-49\" x=\"1253.181641\"/>\n     <use xlink:href=\"#DejaVuSans-46\" x=\"1282.673828\"/>\n     <use xlink:href=\"#DejaVuSans-41\" x=\"1331.068359\"/>\n     <use xlink:href=\"#DejaVuSans-52\" x=\"1399.476562\"/>\n     <use xlink:href=\"#DejaVuSans-31\" x=\"1468.958984\"/>\n     <use xlink:href=\"#DejaVuSans-30\" x=\"1532.582031\"/>\n     <use xlink:href=\"#DejaVuSans-30\" x=\"1596.205078\"/>\n     <use xlink:href=\"#DejaVuSans-20\" x=\"1659.828125\"/>\n     <use xlink:href=\"#DejaVuSans-64\" x=\"1691.615234\"/>\n     <use xlink:href=\"#DejaVuSans-61\" x=\"1755.091797\"/>\n     <use xlink:href=\"#DejaVuSans-74\" x=\"1816.371094\"/>\n     <use xlink:href=\"#DejaVuSans-61\" x=\"1855.580078\"/>\n     <use xlink:href=\"#DejaVuSans-73\" x=\"1916.859375\"/>\n     <use xlink:href=\"#DejaVuSans-65\" x=\"1968.958984\"/>\n     <use xlink:href=\"#DejaVuSans-74\" x=\"2030.482422\"/>\n    </g>\n   </g>\n  </g>\n </g>\n <defs>\n  <clipPath id=\"pe7df1fdcf8\">\n   <rect x=\"7.2\" y=\"22.318125\" width=\"446.4\" height=\"151.68932\"/>\n  </clipPath>\n </defs>\n</svg>\n",
            "application/pdf": "[encoded data removed]"
          },
          "metadata": {}
        }
      ]
    },
    {
      "cell_type": "code",
      "source": [],
      "metadata": {
        "id": "W4dIN3AE8Lzn"
      },
      "execution_count": 6,
      "outputs": []
    },
    {
      "cell_type": "markdown",
      "metadata": {
        "id": "GV7uwbUoN1aw"
      },
      "source": [
        "#پیش‌پردازش داده‌ها\n",
        "همان‌طور که بیان شد حال باید سه مجموعه آموزش، اعتبارسنجی و تست را بسازیم.\n",
        "پکیچ\n",
        "\n",
        "torchvision\n",
        "\n",
        "مجموعه آموزش و تست را به صورت دو مجموعه‌داده مجزا به ما می‌دهد. سلول‌های بعدی  مجموعه آموزش و تست را ادغام کرده و سپس تقسیم جدید\n",
        "\n",
        " train-val-test\n",
        "\n",
        " را ایجاد می کند."
      ]
    },
    {
      "cell_type": "code",
      "execution_count": 7,
      "metadata": {
        "id": "PujEJOi0FjOF"
      },
      "outputs": [],
      "source": [
        "# Merging original training and test set\n",
        "CIFAR_all_images = np.concatenate([CIFAR_train_set.data, CIFAR_test_set.data], axis=0)\n",
        "CIFAR_all_targets = torch.LongTensor(CIFAR_train_set.targets + CIFAR_test_set.targets)"
      ]
    },
    {
      "cell_type": "markdown",
      "metadata": {
        "id": "3NlaCBVaFgc3"
      },
      "source": [
        ":برای کاهش زمان و مدیریت مجموعه‌داده‌ها کلاس زیر طراحی شده است تا مجموعه‌ای از تصاویر، برچسب‌ها و تبدیل‌های تصویر را می‌گیرد و تصاویر و برچسب‌های متناظرشان را برمی‌گرداند.\n",
        "\n",
        "\n",
        "\n",
        "کلاس\n",
        "ImageDataset\n",
        "\n",
        "Inputs:\n",
        "\n",
        "       imgs - Numpy array of shape [N,32,32,3] containing all images.\n",
        "       targets - PyTorch array of shape [N] containing all labels.\n",
        "       img_transform - A torchvision transformation that should be applied to the\n",
        "       images before returning. If none, no transformation is applied.[link text](https://)"
      ]
    },
    {
      "cell_type": "code",
      "execution_count": 8,
      "metadata": {
        "id": "PrCt-fRjFmoG"
      },
      "outputs": [],
      "source": [
        "class ImageDataset(data.Dataset):\n",
        "\n",
        "    def __init__(self, imgs, targets, img_transform=None):\n",
        "        super().__init__()\n",
        "        self.img_transform = img_transform\n",
        "        self.imgs = imgs\n",
        "        self.targets = targets\n",
        "\n",
        "    def __getitem__(self, idx):\n",
        "        img, target = self.imgs[idx], self.targets[idx]\n",
        "        img = Image.fromarray(img)\n",
        "\n",
        "        if self.img_transform is not None:\n",
        "            img = self.img_transform(img)\n",
        "\n",
        "        return img, target\n",
        "\n",
        "    def __len__(self):\n",
        "        return self.imgs.shape[0]"
      ]
    },
    {
      "cell_type": "markdown",
      "metadata": {
        "id": "5pkOYUoQFpg9"
      },
      "source": [
        "اکنون می‌توانیم تقسیم کلاس‌ها را ایجاد کنیم. کلاس‌ها را به‌طور تصادفی به آموزش، اعتبارسنجی و آزمایش اختصاص می‌دهیم و از تقسیم 80%-10%-10% استفاده می‌کنیم.\n",
        "\n",
        "## کامل کنید\n",
        "\n",
        "ابتدا جایگشتی رندوم از صفر تا ۹۹ را در متغیر\n",
        "\n",
        " classes\n",
        "\n",
        "بریزید و سپس به کمک مفهوم\n",
        "\n",
        " slice\n",
        "\n",
        " در پایتون، هشتاد کلاس اول را به مجموعه کلاس‌های آموزش، ده‌تای بعدی را به مجموعه کلاس‌های اعتبارسنجی و مابقی را به مجموعه کلاس‌های آزمون اختصاص دهید.\n",
        "\n",
        "  به جای علامت ؟ کد لازم را پیاده‌سازی کنید"
      ]
    },
    {
      "cell_type": "code",
      "source": [
        "import torch\n",
        "\n",
        "torch.manual_seed(0)           # Set seed for reproducibility\n",
        "classes = torch.randperm(100)  # Returns random permutation of numbers 0 to 99\n",
        "\n",
        "# Assign the first 80 classes to the training set, the next 10 to the validation set, and the rest to the test set\n",
        "train_classes = classes[:80]\n",
        "val_classes = classes[80:90]\n",
        "test_classes = classes[90:]\n"
      ],
      "metadata": {
        "id": "0d5VP9NFIJLR"
      },
      "execution_count": 9,
      "outputs": []
    },
    {
      "cell_type": "markdown",
      "metadata": {
        "id": "_hd78KAwFwCU"
      },
      "source": [
        "حال نام کلاس‌های اعتبارسنجی و آزمون که تفکیک کردید را در سل زیر چاپ کنید.\n",
        "\n",
        "\n"
      ]
    },
    {
      "cell_type": "code",
      "execution_count": 10,
      "metadata": {
        "colab": {
          "base_uri": "https://localhost:8080/"
        },
        "id": "e836zqI3Fw9B",
        "outputId": "895a2779-41ef-42dc-a63a-285997fa1fba"
      },
      "outputs": [
        {
          "output_type": "stream",
          "name": "stdout",
          "text": [
            "Validation classes: ['caterpillar', 'castle', 'skunk', 'ray', 'bus', 'motorcycle', 'keyboard', 'chimpanzee', 'possum', 'tiger']\n",
            "Test classes: ['kangaroo', 'crocodile', 'butterfly', 'shark', 'forest', 'pickup_truck', 'telephone', 'lion', 'worm', 'mushroom']\n"
          ]
        }
      ],
      "source": [
        "# Printing validation and test classes\n",
        "idx_to_class = {val: key for key, val in CIFAR_train_set.class_to_idx.items()}\n",
        "print(\"Validation classes:\", [idx_to_class[c.item()] for c in val_classes])\n",
        "print(\"Test classes:\", [idx_to_class[c.item()] for c in test_classes])"
      ]
    },
    {
      "cell_type": "markdown",
      "metadata": {
        "id": "NH_D5vJwF0nm"
      },
      "source": [
        "### توضیح دهید\n",
        "رفتار تابع زیر را توضیح دهید"
      ]
    },
    {
      "cell_type": "code",
      "execution_count": 11,
      "metadata": {
        "id": "drAxVNElF2ll"
      },
      "outputs": [],
      "source": [
        "def dataset_from_labels(imgs, targets, class_set, **kwargs):\n",
        "    if isinstance(imgs, str):  # If imgs is a file path\n",
        "        img_dataset = torchvision.datasets.ImageFolder(root=imgs, transform=kwargs.get('img_transform'))\n",
        "        class_mask = torch.tensor([img_dataset.class_to_idx[str(c)] for c in class_set])\n",
        "    else:\n",
        "        imgs = torch.tensor(imgs) if not torch.is_tensor(imgs) else imgs\n",
        "        class_mask = torch.any(targets[:, None] == class_set[None, :], dim=-1)\n",
        "\n",
        "    return ImageDataset(imgs=imgs[class_mask],\n",
        "                        targets=targets[class_mask],\n",
        "                        **kwargs)\n"
      ]
    },
    {
      "cell_type": "markdown",
      "metadata": {
        "id": "Jx9bgWonF8at"
      },
      "source": [
        "### کامل کنید\n",
        "به کمک تابع\n",
        "\n",
        "dataset_from_labels\n",
        "\n",
        "بخش ؟؟؟ کد را پر کنید\n",
        "\n",
        "### توضیح دهید\n",
        "در قطعه کد زیر برای جلوگیری از بیش‌برازش\n",
        "\n",
        "overfitting\n",
        "\n",
        "از چه تکنیک‌های استفاده کرده است؟"
      ]
    },
    {
      "cell_type": "code",
      "source": [
        "# Define your dataset paths or variables\n",
        "train_imgs, train_targets = dataset_from_labels('/content/cifar-100-python/train', train_classes, class_set=train_classes, img_transform=train_transform)\n",
        "val_imgs, val_targets = dataset_from_labels('/content/cifar-100-python/meta', val_classes, class_set=val_classes, img_transform=test_transform)\n",
        "test_imgs, test_targets = dataset_from_labels('/content/cifar-100-python/test', test_classes, class_set=test_classes, img_transform=test_transform)\n",
        "\n",
        "# Define the class set for each dataset split\n",
        "train_classes = set(train_classes)  # Assuming train_classes is previously defined\n",
        "val_classes = set(val_classes)      # Assuming val_classes is previously defined\n",
        "test_classes = set(test_classes)    # Assuming test_classes is previously defined\n",
        "\n",
        "# Pre-computed statistics from the new train set\n",
        "DATA_MEANS = torch.Tensor([0.5183975, 0.49192241, 0.44651328])\n",
        "DATA_STD = torch.Tensor([0.26770132, 0.25828985, 0.27961241])\n",
        "\n",
        "test_transform = transforms.Compose([transforms.ToTensor(),\n",
        "                                     transforms.Normalize(DATA_MEANS, DATA_STD)\n",
        "                                     ])\n",
        "# For training, add some augmentation to prevent overfitting\n",
        "train_transform = transforms.Compose([transforms.RandomHorizontalFlip(),\n",
        "                                      transforms.RandomResizedCrop((32, 32), scale=(0.8, 1.0), ratio=(0.9, 1.1)),\n",
        "                                      transforms.ToTensor(),\n",
        "                                      transforms.Normalize(DATA_MEANS, DATA_STD)\n",
        "                                      ])\n",
        "\n",
        "# Create datasets using the dataset_from_labels function\n",
        "train_set = dataset_from_labels(train_imgs, train_targets, train_classes, class_set=train_classes, img_transform=train_transform)\n",
        "val_set = dataset_from_labels(val_imgs, val_targets, val_classes, class_set=val_classes, img_transform=test_transform)\n",
        "test_set = dataset_from_labels(test_imgs, test_targets, test_classes, class_set=test_classes, img_transform=test_transform)\n"
      ],
      "metadata": {
        "id": "gnrv53IUH8Gp",
        "colab": {
          "base_uri": "https://localhost:8080/",
          "height": 245
        },
        "outputId": "00bec460-d8ee-455a-9f9d-bb04bf1ccf1a"
      },
      "execution_count": 12,
      "outputs": [
        {
          "output_type": "error",
          "ename": "NameError",
          "evalue": "name 'train_transform' is not defined",
          "traceback": [
            "\u001b[0;31m---------------------------------------------------------------------------\u001b[0m",
            "\u001b[0;31mNameError\u001b[0m                                 Traceback (most recent call last)",
            "\u001b[0;32m<ipython-input-12-0eb3d097b42c>\u001b[0m in \u001b[0;36m<cell line: 2>\u001b[0;34m()\u001b[0m\n\u001b[1;32m      1\u001b[0m \u001b[0;31m# Define your dataset paths or variables\u001b[0m\u001b[0;34m\u001b[0m\u001b[0;34m\u001b[0m\u001b[0m\n\u001b[0;32m----> 2\u001b[0;31m \u001b[0mtrain_imgs\u001b[0m\u001b[0;34m,\u001b[0m \u001b[0mtrain_targets\u001b[0m \u001b[0;34m=\u001b[0m \u001b[0mdataset_from_labels\u001b[0m\u001b[0;34m(\u001b[0m\u001b[0;34m'/content/cifar-100-python/train'\u001b[0m\u001b[0;34m,\u001b[0m \u001b[0mtrain_classes\u001b[0m\u001b[0;34m,\u001b[0m \u001b[0mclass_set\u001b[0m\u001b[0;34m=\u001b[0m\u001b[0mtrain_classes\u001b[0m\u001b[0;34m,\u001b[0m \u001b[0mimg_transform\u001b[0m\u001b[0;34m=\u001b[0m\u001b[0mtrain_transform\u001b[0m\u001b[0;34m)\u001b[0m\u001b[0;34m\u001b[0m\u001b[0;34m\u001b[0m\u001b[0m\n\u001b[0m\u001b[1;32m      3\u001b[0m \u001b[0mval_imgs\u001b[0m\u001b[0;34m,\u001b[0m \u001b[0mval_targets\u001b[0m \u001b[0;34m=\u001b[0m \u001b[0mdataset_from_labels\u001b[0m\u001b[0;34m(\u001b[0m\u001b[0;34m'/content/cifar-100-python/meta'\u001b[0m\u001b[0;34m,\u001b[0m \u001b[0mval_classes\u001b[0m\u001b[0;34m,\u001b[0m \u001b[0mclass_set\u001b[0m\u001b[0;34m=\u001b[0m\u001b[0mval_classes\u001b[0m\u001b[0;34m,\u001b[0m \u001b[0mimg_transform\u001b[0m\u001b[0;34m=\u001b[0m\u001b[0mtest_transform\u001b[0m\u001b[0;34m)\u001b[0m\u001b[0;34m\u001b[0m\u001b[0;34m\u001b[0m\u001b[0m\n\u001b[1;32m      4\u001b[0m \u001b[0mtest_imgs\u001b[0m\u001b[0;34m,\u001b[0m \u001b[0mtest_targets\u001b[0m \u001b[0;34m=\u001b[0m \u001b[0mdataset_from_labels\u001b[0m\u001b[0;34m(\u001b[0m\u001b[0;34m'/content/cifar-100-python/test'\u001b[0m\u001b[0;34m,\u001b[0m \u001b[0mtest_classes\u001b[0m\u001b[0;34m,\u001b[0m \u001b[0mclass_set\u001b[0m\u001b[0;34m=\u001b[0m\u001b[0mtest_classes\u001b[0m\u001b[0;34m,\u001b[0m \u001b[0mimg_transform\u001b[0m\u001b[0;34m=\u001b[0m\u001b[0mtest_transform\u001b[0m\u001b[0;34m)\u001b[0m\u001b[0;34m\u001b[0m\u001b[0;34m\u001b[0m\u001b[0m\n\u001b[1;32m      5\u001b[0m \u001b[0;34m\u001b[0m\u001b[0m\n",
            "\u001b[0;31mNameError\u001b[0m: name 'train_transform' is not defined"
          ]
        }
      ]
    },
    {
      "cell_type": "markdown",
      "metadata": {
        "id": "3mt0Hc9gQuBE"
      },
      "source": [
        "# نمونه‌گیری داده‌ها\n",
        "استراتژی استفاده از داده‌های آموزش موجود برای یادگیری نمونه‌محدود در فرایادگیری بسیار مهم است. شبیه‌سازی یادگیری نمونه‌محدود در حین آموزش، در هر مرحله، تعداد کمی از کلاس‌ها را به صورت تصادفی انتخاب می‌کنیم و تعداد کمی نمونه برای هر کلاس نمونه‌برداری می‌‌کنیم."
      ]
    },
    {
      "cell_type": "markdown",
      "metadata": {
        "id": "Po-aLU71GDd_"
      },
      "source": [
        "### توضیح دهید\n",
        "\n",
        "در تابع\n",
        "\n",
        "__initi__\n",
        "\n",
        "در کلاس\n",
        "\n",
        "FewShotBatchSampler\n",
        "\n",
        "دو آرگومان ورودی\n",
        "\n",
        " K_shotو N_way\n",
        "\n",
        " هر کدام بیان‌گر چه چیزی هستند؟\n",
        "\n",
        "        Inputs:\n",
        "            dataset_targets - PyTorch tensor of the labels of the data elements.\n",
        "            N_way - ???????????\n",
        "            K_shot - ??????????\n",
        "            include_query - If True, returns batch of size N_way*K_shot*2, which\n",
        "                            can be split into support and query set. Simplifies\n",
        "                            the implementation of sampling the same classes but\n",
        "                            distinct examples for support and query set.\n",
        "            shuffle - If True, examples and classes are newly shuffled in each\n",
        "                      iteration (for training)\n",
        "            shuffle_once - If True, examples and classes are shuffled once in\n",
        "                           the beginning, but kept constant across iterations\n",
        "                           (for validation)\n",
        "        \"\"\""
      ]
    },
    {
      "cell_type": "code",
      "execution_count": null,
      "metadata": {
        "id": "64KgJLm4F7Tc"
      },
      "outputs": [],
      "source": [
        "class FewShotBatchSampler(object):\n",
        "\n",
        "    def __init__(self, dataset_targets, N_way, K_shot, include_query=False, shuffle=True, shuffle_once=False):\n",
        "        super().__init__()\n",
        "        self.dataset_targets = dataset_targets\n",
        "        self.N_way = N_way\n",
        "        self.K_shot = K_shot\n",
        "        self.shuffle = shuffle\n",
        "        self.include_query = include_query\n",
        "        if self.include_query:\n",
        "            self.K_shot *= 2\n",
        "        self.batch_size = self.N_way * self.K_shot  # Number of overall images per batch\n",
        "\n",
        "        # Organize examples by class\n",
        "        self.classes = torch.unique(self.dataset_targets).tolist()\n",
        "        self.num_classes = len(self.classes)\n",
        "        self.indices_per_class = {}\n",
        "        self.batches_per_class = {}  # Number of K-shot batches that each class can provide\n",
        "        for c in self.classes:\n",
        "            self.indices_per_class[c] = torch.where(self.dataset_targets == c)[0]\n",
        "            self.batches_per_class[c] = self.indices_per_class[c].shape[0] // self.K_shot\n",
        "\n",
        "        # Create a list of classes from which we select the N classes per batch\n",
        "        self.iterations = sum(self.batches_per_class.values()) // self.N_way\n",
        "        self.class_list = [c for c in self.classes for _ in range(self.batches_per_class[c])]\n",
        "        if shuffle_once or self.shuffle:\n",
        "            self.shuffle_data()\n",
        "        else:\n",
        "            # For testing, we iterate over classes instead of shuffling them\n",
        "            sort_idxs = [i+p*self.num_classes for i,\n",
        "                         c in enumerate(self.classes) for p in range(self.batches_per_class[c])]\n",
        "            self.class_list = np.array(self.class_list)[np.argsort(sort_idxs)].tolist()\n",
        "\n",
        "    def shuffle_data(self):\n",
        "        # Shuffle the examples per class\n",
        "        for c in self.classes:\n",
        "            perm = torch.randperm(self.indices_per_class[c].shape[0])\n",
        "            self.indices_per_class[c] = self.indices_per_class[c][perm]\n",
        "        # Shuffle the class list from which we sample. Note that this way of shuffling\n",
        "        # does not prevent to choose the same class twice in a batch. However, for\n",
        "        # training and validation, this is not a problem.\n",
        "        random.shuffle(self.class_list)\n",
        "\n",
        "    def __iter__(self):\n",
        "        # Shuffle data\n",
        "        if self.shuffle:\n",
        "            self.shuffle_data()\n",
        "\n",
        "        # Sample few-shot batches\n",
        "        start_index = defaultdict(int)\n",
        "        for it in range(self.iterations):\n",
        "            class_batch = self.class_list[it*self.N_way:(it+1)*self.N_way]  # Select N classes for the batch\n",
        "            index_batch = []\n",
        "            for c in class_batch:  # For each class, select the next K examples and add them to the batch\n",
        "                index_batch.extend(self.indices_per_class[c][start_index[c]:start_index[c]+self.K_shot])\n",
        "                start_index[c] += self.K_shot\n",
        "            if self.include_query:  # If we return support+query set, sort them so that they are easy to split\n",
        "                index_batch = index_batch[::2] + index_batch[1::2]\n",
        "            yield index_batch\n",
        "\n",
        "    def __len__(self):\n",
        "        return self.iterations"
      ]
    },
    {
      "cell_type": "code",
      "execution_count": null,
      "metadata": {
        "id": "3r-SqBMWGJYd"
      },
      "outputs": [],
      "source": [
        "N_WAY = 5\n",
        "K_SHOT = 4\n",
        "train_data_loader = data.DataLoader(train_set,\n",
        "                                    batch_sampler=FewShotBatchSampler(train_set.targets,\n",
        "                                                                      include_query=True,\n",
        "                                                                      N_way=N_WAY,\n",
        "                                                                      K_shot=K_SHOT,\n",
        "                                                                      shuffle=True),\n",
        "                                    num_workers=4)\n",
        "val_data_loader = data.DataLoader(val_set,\n",
        "                                  batch_sampler=FewShotBatchSampler(val_set.targets,\n",
        "                                                                    include_query=True,\n",
        "                                                                    N_way=N_WAY,\n",
        "                                                                    K_shot=K_SHOT,\n",
        "                                                                    shuffle=False,\n",
        "                                                                    shuffle_once=True),\n",
        "                                  num_workers=4)"
      ]
    },
    {
      "cell_type": "code",
      "execution_count": null,
      "metadata": {
        "id": "c6Gyha6OGN7e"
      },
      "outputs": [],
      "source": [
        "def split_batch(imgs, targets):\n",
        "    support_imgs, query_imgs = imgs.chunk(2, dim=0)\n",
        "    support_targets, query_targets = targets.chunk(2, dim=0)\n",
        "    return support_imgs, query_imgs, support_targets, query_targets"
      ]
    },
    {
      "cell_type": "markdown",
      "metadata": {
        "id": "Tvrk36YeGQR9"
      },
      "source": [
        "### کامل کنید\n",
        "به کمک تابع\n",
        "\n",
        "split_batch\n",
        "\n",
        "دو مجموعه\n",
        "\n",
        "support_imags, query_imgs\n",
        "\n",
        "را بسازید. تا خروجی مورد نظر نمایش داده شود.\n",
        "\n",
        "جای ???? را با کد پیاده‌‌‌سازی پر کنید"
      ]
    },
    {
      "cell_type": "code",
      "source": [
        "imgs, targets = next(iter(val_data_loader))  # We use the validation set since it does not apply augmentations\n",
        "support_imgs, query_imgs, _, _ = ??????\n",
        "support_grid = torchvision.utils.make_grid(support_imgs, nrow=K_SHOT, normalize=True, pad_value=0.9)\n",
        "support_grid = support_grid.permute(1, 2, 0)\n",
        "query_grid = torchvision.utils.make_grid(query_imgs, nrow=K_SHOT, normalize=True, pad_value=0.9)\n",
        "query_grid = query_grid.permute(1, 2, 0)\n",
        "\n",
        "fig, ax = plt.subplots(1, 2, figsize=(8, 5))\n",
        "ax[0].imshow(support_grid)\n",
        "ax[0].set_title(\"Support set\")\n",
        "ax[0].axis('off')\n",
        "ax[1].imshow(query_grid)\n",
        "ax[1].set_title(\"Query set\")\n",
        "ax[1].axis('off')\n",
        "plt.suptitle(\"Few Shot Batch\", weight='bold')\n",
        "plt.show()\n",
        "plt.close()"
      ],
      "metadata": {
        "id": "NABgMfijHkg7"
      },
      "execution_count": null,
      "outputs": []
    },
    {
      "cell_type": "markdown",
      "metadata": {
        "id": "tjzECvVWVtiL"
      },
      "source": [
        "# Prototypical Networks\n",
        "یک رویکرد در فرایادگیری بانظارت رویکرد ناپارامتری است. شبکه‌\n",
        "\n",
        "Prototypical\n",
        "\n",
        "است. در مرحله متاتست رویکرد ناپارامتری تنها وجود دارد و در مرحله فراآموزش همچنان رویکرد پارامتریک دنبال می‌شود. در روش‌های ناپارامتری با داشتن داده‌های آموزش یک وظیفه هنگامی که داده تست به مدل وارد می‌شود؛ فاصله آن با تک تک نمونه‌ها اندازه‌گیری می‌شود. سپس بر اساس این‌که به داده جدید به کدام نمونه نزدیک‌تر است برچسب همان نمونه را به خود اختصاص می‌دهد که همان روش مرسوم کا-نزدیک‌ترین همسایه است. هدف تدارک فضایی است که فاصله اقلیدسی بین نمونه‌ها معنادار و مورد انتظار انسان شود.\n",
        "\n",
        "پیدا می‌کند. هنگامی که نمونه‌های یک وظیفه جدید ورودی داده شوند، شبکه فاصله داده جدید را با تک‌تک نمونه‌های آموزش آن وظیفه اندازه می‌گیرد و از این طریق برچسب داده جدید را مشخص می‌کند.\n",
        "\n",
        "در شبکه‌های\n",
        "\n",
        "Prototypical\n",
        "\n",
        " نمونه‌های یک دسته مستقل از هم دیده نمی‌شوند\n",
        "\n",
        " برای اطلاعات بیشتر به مقاله رفرنس رجوع کنید\n"
      ]
    },
    {
      "cell_type": "markdown",
      "metadata": {
        "id": "P3aPnnunZV1I"
      },
      "source": [
        "اکنون که می‌دانیم اصولاً یک\n",
        "\n",
        "ProtoNet\n",
        "\n",
        "چگونه کار می‌کند، آن را برای مساله کلاس‌بندی تصاویر اعمال می‌کنیم. ابتدا باید تابع رمزگذار را تعریف کنیم"
      ]
    },
    {
      "cell_type": "code",
      "execution_count": null,
      "metadata": {
        "id": "OC60XiMPGXS1"
      },
      "outputs": [],
      "source": [
        "def get_convnet(output_size):\n",
        "    convnet = torchvision.models.DenseNet(growth_rate=32,\n",
        "                                          block_config=(6, 6, 6, 6),\n",
        "                                          bn_size=2,\n",
        "                                          num_init_features=64,\n",
        "                                          num_classes=output_size  # Output dimensionality\n",
        "                                         )\n",
        "    return convnet"
      ]
    },
    {
      "cell_type": "markdown",
      "metadata": {
        "id": "_iY_LBThZ_VZ"
      },
      "source": [
        "اولین گام در طول آموزش این است که تمام تصاویر را به صورت پیمانه‌ای با شبکه  رمزگذاری کنیم. در مرحله بعد، از روی ساپورت‌ست کلاس\n",
        "\n",
        "prototypes\n",
        "\n",
        "\n",
        "نمونه‌های اولیه کلاس را از مجموعه پشتیبانی محاسبه می‌کنیم\n",
        "\n",
        "calculate_prototypes()\n",
        "\n",
        "و نمونه‌های کوئری‌ست را با\n",
        "\n",
        "classify_feats\n",
        "\n",
        "کلاس‌بندی می‌کنیم\n",
        "\n",
        "        \"\"\"\n",
        "        Inputs\n",
        "            proto_dim - Dimensionality of prototype feature space\n",
        "            lr - Learning rate of Adam optimizer\n",
        "        \"\"\""
      ]
    },
    {
      "cell_type": "code",
      "execution_count": null,
      "metadata": {
        "id": "a6ewvH6KGZX8"
      },
      "outputs": [],
      "source": [
        "class ProtoNet(pl.LightningModule):\n",
        "\n",
        "    def __init__(self, proto_dim, lr):\n",
        "        super().__init__()\n",
        "        self.save_hyperparameters()\n",
        "        self.model = get_convnet(output_size=self.hparams.proto_dim)\n",
        "\n",
        "    def configure_optimizers(self):\n",
        "        optimizer = optim.AdamW(self.parameters(), lr=self.hparams.lr)\n",
        "        scheduler = optim.lr_scheduler.MultiStepLR(\n",
        "            optimizer, milestones=[140, 180], gamma=0.1)\n",
        "        return [optimizer], [scheduler]\n",
        "\n",
        "    @staticmethod\n",
        "    def calculate_prototypes(features, targets):\n",
        "        # Given a stack of features vectors and labels, return class prototypes\n",
        "        # features - shape [N, proto_dim], targets - shape [N]\n",
        "        classes, _ = torch.unique(targets).sort()  # Determine which classes we have\n",
        "        prototypes = []\n",
        "        for c in classes:\n",
        "            p = features[torch.where(targets == c)[0]].mean(dim=0)  # Average class feature vectors\n",
        "            prototypes.append(p)\n",
        "        prototypes = torch.stack(prototypes, dim=0)\n",
        "        # Return the 'classes' tensor to know which prototype belongs to which class\n",
        "        return prototypes, classes\n",
        "\n",
        "    def classify_feats(self, prototypes, classes, feats, targets):\n",
        "        # Classify new examples with prototypes and return classification error\n",
        "        dist = torch.pow(prototypes[None, :] - feats[:, None], 2).sum(dim=2)  # Squared euclidean distance\n",
        "        preds = F.log_softmax(-dist, dim=1)\n",
        "        labels = (classes[None, :] == targets[:, None]).long().argmax(dim=-1)\n",
        "        acc = (preds.argmax(dim=1) == labels).float().mean()\n",
        "        return preds, labels, acc\n",
        "\n",
        "    def calculate_loss(self, batch, mode):\n",
        "        # Determine training loss for a given support and query set\n",
        "        imgs, targets = batch\n",
        "        features = self.model(imgs)  # Encode all images of support and query set\n",
        "        support_feats, query_feats, support_targets, query_targets = split_batch(features, targets)\n",
        "        prototypes, classes = ProtoNet.calculate_prototypes(support_feats, support_targets)\n",
        "        preds, labels, acc = self.classify_feats(prototypes, classes, query_feats, query_targets)\n",
        "        loss = F.cross_entropy(preds, labels)\n",
        "\n",
        "        self.log(f\"{mode}_loss\", loss)\n",
        "        self.log(f\"{mode}_acc\", acc)\n",
        "        return loss\n",
        "\n",
        "    def training_step(self, batch, batch_idx):\n",
        "        return self.calculate_loss(batch, mode=\"train\")\n",
        "\n",
        "    def validation_step(self, batch, batch_idx):\n",
        "        _ = self.calculate_loss(batch, mode=\"val\")"
      ]
    },
    {
      "cell_type": "markdown",
      "metadata": {
        "id": "ks4lJrtynO_U"
      },
      "source": [
        "#آموزش\n",
        "پس از پیاده‌سازی مدل، می‌توانیم آموزش آن را شروع کنیم. از تابع آموزشی\n",
        "\n",
        "PyTorch Lightning\n",
        "\n",
        "  استفاده می کنیم و مدل را برای ۲۰۰ ایپاک آموزش می‌دهیم."
      ]
    },
    {
      "cell_type": "code",
      "execution_count": null,
      "metadata": {
        "id": "n1R7HEmPGdrN"
      },
      "outputs": [],
      "source": [
        "def train_model(model_class, train_loader, val_loader, **kwargs):\n",
        "    trainer = pl.Trainer(default_root_dir=os.path.join(CHECKPOINT_PATH, model_class.__name__),\n",
        "                         accelerator=\"gpu\" if str(device).startswith(\"cuda\") else \"cpu\",\n",
        "                         devices=1,\n",
        "                         max_epochs=200,\n",
        "                         callbacks=[ModelCheckpoint(save_weights_only=True, mode=\"max\", monitor=\"val_acc\"),\n",
        "                                    LearningRateMonitor(\"epoch\")],\n",
        "                         enable_progress_bar=False)\n",
        "    trainer.logger._default_hp_metric = None\n",
        "\n",
        "    # Check whether pretrained model exists. If yes, load it and skip training\n",
        "    pretrained_filename = os.path.join(\n",
        "        CHECKPOINT_PATH, model_class.__name__ + \".ckpt\")\n",
        "    if os.path.isfile(pretrained_filename):\n",
        "        print(f\"Found pretrained model at {pretrained_filename}, loading...\")\n",
        "        # Automatically loads the model with the saved hyperparameters\n",
        "        model = model_class.load_from_checkpoint(pretrained_filename)\n",
        "    else:\n",
        "        pl.seed_everything(42)  # To be reproducable\n",
        "        model = model_class(**kwargs)\n",
        "        trainer.fit(model, train_loader, val_loader)\n",
        "        model = model_class.load_from_checkpoint(\n",
        "            trainer.checkpoint_callback.best_model_path)  # Load best checkpoint after training\n",
        "\n",
        "    return model"
      ]
    },
    {
      "cell_type": "code",
      "execution_count": null,
      "metadata": {
        "id": "xzNbvwj4Gful"
      },
      "outputs": [],
      "source": [
        "protonet_model = train_model(ProtoNet,\n",
        "                             proto_dim=64,\n",
        "                             lr=2e-4,\n",
        "                             train_loader=train_data_loader,\n",
        "                             val_loader=val_data_loader)"
      ]
    },
    {
      "cell_type": "markdown",
      "metadata": {
        "id": "83yjRwEyHHiW"
      },
      "source": [
        "### سل زیر را اجرا کنید و در داشبورد تنسوربرد نمودارهای\n",
        "\n",
        "### train_acc, train_loss, val_acc, val_loss\n",
        "\n",
        "### را تحلیل کنید و ارتباط آن‌ها با یکدیگر و تاثیر تعداد ایپاک و نرخ یادگیری را  بر آن‌ها توضیح دهید"
      ]
    },
    {
      "cell_type": "code",
      "execution_count": null,
      "metadata": {
        "id": "3QX8x2bFGkCB"
      },
      "outputs": [],
      "source": [
        "# Opens tensorboard in notebook. Adjust the path to your CHECKPOINT_PATH if needed\n",
        "%tensorboard --logdir ../saved_models/tutorial16/tensorboards/ProtoNet"
      ]
    },
    {
      "cell_type": "markdown",
      "metadata": {
        "id": "DqGqSWHQoZ7t"
      },
      "source": [
        "## ارزیابی"
      ]
    },
    {
      "cell_type": "code",
      "execution_count": null,
      "metadata": {
        "id": "xiCAa8ebGpB1"
      },
      "outputs": [],
      "source": [
        "@torch.no_grad()\n",
        "def test_proto_net(model, dataset, data_feats=None, k_shot=4):\n",
        "    model = model.to(device)\n",
        "    model.eval()\n",
        "    num_classes = dataset.targets.unique().shape[0]\n",
        "    exmps_per_class = dataset.targets.shape[0]//num_classes  # We assume uniform example distribution here\n",
        "\n",
        "    # The encoder network remains unchanged across k-shot settings. Hence, we only need\n",
        "    # to extract the features for all images once.\n",
        "    if data_feats is None:\n",
        "        # Dataset preparation\n",
        "        dataloader = data.DataLoader(dataset, batch_size=128, num_workers=4, shuffle=False, drop_last=False)\n",
        "\n",
        "        img_features = []\n",
        "        img_targets = []\n",
        "        for imgs, targets in tqdm(dataloader, \"Extracting image features\", leave=False):\n",
        "            imgs = imgs.to(device)\n",
        "            feats = model.model(imgs)\n",
        "            img_features.append(feats.detach().cpu())\n",
        "            img_targets.append(targets)\n",
        "        img_features = torch.cat(img_features, dim=0)\n",
        "        img_targets = torch.cat(img_targets, dim=0)\n",
        "        # Sort by classes, so that we obtain tensors of shape [num_classes, exmps_per_class, ...]\n",
        "        # Makes it easier to process later\n",
        "        img_targets, sort_idx = img_targets.sort()\n",
        "        img_targets = img_targets.reshape(num_classes, exmps_per_class).transpose(0, 1)\n",
        "        img_features = img_features[sort_idx].reshape(num_classes, exmps_per_class, -1).transpose(0, 1)\n",
        "    else:\n",
        "        img_features, img_targets = data_feats\n",
        "\n",
        "    # We iterate through the full dataset in two manners. First, to select the k-shot batch.\n",
        "    # Second, the evaluate the model on all other examples\n",
        "    accuracies = []\n",
        "    for k_idx in tqdm(range(0, img_features.shape[0], k_shot), \"Evaluating prototype classification\", leave=False):\n",
        "        # Select support set and calculate prototypes\n",
        "        k_img_feats, k_targets = img_features[k_idx:k_idx+k_shot].flatten(0,1), img_targets[k_idx:k_idx+k_shot].flatten(0,1)\n",
        "        prototypes, proto_classes = model.calculate_prototypes(k_img_feats, k_targets)\n",
        "        # Evaluate accuracy on the rest of the dataset\n",
        "        batch_acc = 0\n",
        "        for e_idx in range(0, img_features.shape[0], k_shot):\n",
        "            if k_idx == e_idx:  # Do not evaluate on the support set examples\n",
        "                continue\n",
        "            e_img_feats, e_targets = img_features[e_idx:e_idx+k_shot].flatten(0,1), img_targets[e_idx:e_idx+k_shot].flatten(0,1)\n",
        "            _, _, acc = model.classify_feats(prototypes, proto_classes, e_img_feats, e_targets)\n",
        "            batch_acc += acc.item()\n",
        "        batch_acc /= img_features.shape[0]//k_shot-1\n",
        "        accuracies.append(batch_acc)\n",
        "\n",
        "    return (mean(accuracies), stdev(accuracies)), (img_features, img_targets)"
      ]
    },
    {
      "cell_type": "markdown",
      "metadata": {
        "id": "rld86N7mGTem"
      },
      "source": [
        "## خروجی سل زیر را ذخیره کنید و تلاش کنید با تغییر هایپرپارامترهای فرآیند یادگیری، دقت را افزایش دهید و با خروجی قبل مقایسه کنید. اگر موفق به بهبود دقت مدل نشدید حدس خود را در این مورد بنویسید.\n",
        "\n",
        "k\n",
        "\n",
        "را دستکاری نکنید"
      ]
    },
    {
      "cell_type": "code",
      "execution_count": null,
      "metadata": {
        "id": "un6jnxnkJm1b"
      },
      "outputs": [],
      "source": [
        "protonet_accuracies = dict()\n",
        "data_feats = None\n",
        "for k in [2, 4, 8, 16, 32]:\n",
        "    protonet_accuracies[k], data_feats = test_proto_net(protonet_model, test_set, data_feats=data_feats, k_shot=k)\n",
        "    print(f\"Accuracy for k={k}: {100.0*protonet_accuracies[k][0]:4.2f}% (+-{100*protonet_accuracies[k][1]:4.2f}%)\")"
      ]
    },
    {
      "cell_type": "code",
      "execution_count": null,
      "metadata": {
        "id": "AqKAEYxVJuXr"
      },
      "outputs": [],
      "source": [
        "def plot_few_shot(acc_dict, name, color=None, ax=None):\n",
        "    sns.set()\n",
        "    if ax is None:\n",
        "        fig, ax = plt.subplots(1,1,figsize=(5,3))\n",
        "    ks = sorted(list(acc_dict.keys()))\n",
        "    mean_accs = [acc_dict[k][0] for k in ks]\n",
        "    std_accs = [acc_dict[k][1] for k in ks]\n",
        "    ax.plot(ks, mean_accs, marker='o', markeredgecolor='k', markersize=6, label=name, color=color)\n",
        "    ax.fill_between(ks, [m-s for m,s in zip(mean_accs, std_accs)], [m+s for m,s in zip(mean_accs, std_accs)], alpha=0.2, color=color)\n",
        "    ax.set_xticks(ks)\n",
        "    ax.set_xlim([ks[0]-1, ks[-1]+1])\n",
        "    ax.set_xlabel(\"Number of shots per class\", weight='bold')\n",
        "    ax.set_ylabel(\"Accuracy\", weight='bold')\n",
        "    if len(ax.get_title()) == 0:\n",
        "        ax.set_title(\"Few-Shot Performance \" + name, weight='bold')\n",
        "    else:\n",
        "        ax.set_title(ax.get_title() + \" and \" + name, weight='bold')\n",
        "    ax.legend()\n",
        "    return ax"
      ]
    },
    {
      "cell_type": "markdown",
      "metadata": {
        "id": "o7msOIiqKASC"
      },
      "source": [
        "**نمودار زیر را تحلیل کنید**"
      ]
    },
    {
      "cell_type": "code",
      "execution_count": null,
      "metadata": {
        "id": "CqpQlLnfJ_Mr"
      },
      "outputs": [],
      "source": [
        "ax = plot_few_shot(protonet_accuracies, name=\"ProtoNet\", color=\"C1\")\n",
        "plt.show()\n",
        "plt.close()"
      ]
    },
    {
      "cell_type": "markdown",
      "metadata": {
        "id": "mDfRHzczG9mM"
      },
      "source": [
        "# ProtoMAML\n",
        "\n",
        "        \"\"\"\n",
        "        Inputs\n",
        "            proto_dim - Dimensionality of prototype feature space\n",
        "            lr - Learning rate of the outer loop Adam optimizer\n",
        "            lr_inner - Learning rate of the inner loop SGD optimizer\n",
        "            lr_output - Learning rate for the output layer in the inner loop\n",
        "            num_inner_steps - Number of inner loop updates to perform\n",
        "        \"\"\"\n",
        "\n",
        "\n"
      ]
    },
    {
      "cell_type": "markdown",
      "metadata": {
        "id": "aM45IXJdW5X9"
      },
      "source": [
        "## پیاده‌سازی\n",
        "\n",
        "در کلاس\n",
        "\n",
        "ProtoMAML\n",
        "\n",
        "در تابع\n",
        "\n",
        "adapt_few_shot()\n",
        "\n",
        "در جای مشخص شده، لوپ داخلی مدل و بهینه‌ساز آن را پیاده‌‌سازی کنید"
      ]
    },
    {
      "cell_type": "code",
      "execution_count": null,
      "metadata": {
        "id": "nraDOC7QV4KP"
      },
      "outputs": [],
      "source": [
        "class ProtoMAML(pl.LightningModule):\n",
        "\n",
        "    def __init__(self, proto_dim, lr, lr_inner, lr_output, num_inner_steps):\n",
        "        super().__init__()\n",
        "        self.save_hyperparameters()\n",
        "        self.model = get_convnet(output_size=self.hparams.proto_dim)\n",
        "\n",
        "    def configure_optimizers(self):\n",
        "        optimizer = optim.AdamW(self.parameters(), lr=self.hparams.lr)\n",
        "        scheduler = optim.lr_scheduler.MultiStepLR(optimizer, milestones=[140,180], gamma=0.1)\n",
        "        return [optimizer], [scheduler]\n",
        "\n",
        "    def run_model(self, local_model, output_weight, output_bias, imgs, labels):\n",
        "        # Execute a model with given output layer weights and inputs\n",
        "        feats = local_model(imgs)\n",
        "        preds = F.linear(feats, output_weight, output_bias)\n",
        "        loss = F.cross_entropy(preds, labels)\n",
        "        acc = (preds.argmax(dim=1) == labels).float()\n",
        "        return loss, preds, acc\n",
        "\n",
        "    def adapt_few_shot(self, support_imgs, support_targets):\n",
        "        # Determine prototype initialization\n",
        "        support_feats = self.model(support_imgs)\n",
        "        prototypes, classes = ProtoNet.calculate_prototypes(support_feats, support_targets)\n",
        "        support_labels = (classes[None,:] == support_targets[:,None]).long().argmax(dim=-1)\n",
        "        # Create inner-loop model and optimizer\n",
        "        #*******************************\n",
        "        #*******************************\n",
        "        #*******************************\n",
        "        #*******************************\n",
        "        # Create output layer weights with prototype-based initialization\n",
        "        init_weight = 2 * prototypes\n",
        "        init_bias = -torch.norm(prototypes, dim=1)**2\n",
        "        output_weight = init_weight.detach().requires_grad_()\n",
        "        output_bias = init_bias.detach().requires_grad_()\n",
        "\n",
        "        # Optimize inner loop model on support set\n",
        "        for _ in range(self.hparams.num_inner_steps):\n",
        "            # Determine loss on the support set\n",
        "            loss, _, _ = self.run_model(local_model, output_weight, output_bias, support_imgs, support_labels)\n",
        "            # Calculate gradients and perform inner loop update\n",
        "            loss.backward()\n",
        "            local_optim.step()\n",
        "            # Update output layer via SGD\n",
        "            # (https://discuss.pytorch.org/t/the-difference-between-torch-tensor-data-and-torch-tensor/25995/4):\n",
        "            with torch.no_grad():\n",
        "                output_weight.copy_(output_weight - self.hparams.lr_output * output_weight.grad)\n",
        "                output_bias.copy_(output_bias - self.hparams.lr_output * output_bias.grad)\n",
        "\n",
        "            # Reset gradients\n",
        "            local_optim.zero_grad()\n",
        "            output_weight.grad.fill_(0)\n",
        "            output_bias.grad.fill_(0)\n",
        "\n",
        "        # Re-attach computation graph of prototypes\n",
        "        output_weight = (output_weight - init_weight).detach() + init_weight\n",
        "        output_bias = (output_bias - init_bias).detach() + init_bias\n",
        "\n",
        "        return local_model, output_weight, output_bias, classes\n",
        "\n",
        "    def outer_loop(self, batch, mode=\"train\"):\n",
        "        accuracies = []\n",
        "        losses = []\n",
        "        self.model.zero_grad()\n",
        "\n",
        "        # Determine gradients for batch of tasks\n",
        "        for task_batch in batch:\n",
        "            imgs, targets = task_batch\n",
        "            support_imgs, query_imgs, support_targets, query_targets = split_batch(imgs, targets)\n",
        "            # Perform inner loop adaptation\n",
        "            local_model, output_weight, output_bias, classes = self.adapt_few_shot(support_imgs, support_targets)\n",
        "            # Determine loss of query set\n",
        "            query_labels = (classes[None,:] == query_targets[:,None]).long().argmax(dim=-1)\n",
        "            loss, preds, acc = self.run_model(local_model, output_weight, output_bias, query_imgs, query_labels)\n",
        "            # Calculate gradients for query set loss\n",
        "            if mode == \"train\":\n",
        "                loss.backward()\n",
        "\n",
        "                for p_global, p_local in zip(self.model.parameters(), local_model.parameters()):\n",
        "                    p_global.grad += p_local.grad  # First-order approx. -> add gradients of finetuned and base model\n",
        "\n",
        "            accuracies.append(acc.mean().detach())\n",
        "            losses.append(loss.detach())\n",
        "\n",
        "        # Perform update of base model\n",
        "        if mode == \"train\":\n",
        "            opt = self.optimizers()\n",
        "            opt.step()\n",
        "            opt.zero_grad()\n",
        "\n",
        "        self.log(f\"{mode}_loss\", sum(losses) / len(losses))\n",
        "        self.log(f\"{mode}_acc\", sum(accuracies) / len(accuracies))\n",
        "\n",
        "    def training_step(self, batch, batch_idx):\n",
        "        self.outer_loop(batch, mode=\"train\")\n",
        "        return None  # Returning None means we skip the default training optimizer steps by PyTorch Lightning\n",
        "\n",
        "    def validation_step(self, batch, batch_idx):\n",
        "        # Validation requires to finetune a model, hence we need to enable gradients\n",
        "        torch.set_grad_enabled(True)\n",
        "        self.outer_loop(batch, mode=\"val\")\n",
        "        torch.set_grad_enabled(False)"
      ]
    },
    {
      "cell_type": "markdown",
      "metadata": {
        "id": "iVuHR7v6YVuT"
      },
      "source": [
        "## آموزش\n",
        "## ProtoMAML\n",
        "\n",
        "برای آموزش\n",
        "\n",
        " ProtoMAML\n",
        "\n",
        "  باید نمونه‌برداری خود را نسبت به روش قبل تغییر دهیم. به جای یک\n",
        "  \n",
        "  batch\n",
        "\n",
        "  از مجموعه ساپورت-کوئری، باید چندین\n",
        "  \n",
        "  batch\n",
        "\n",
        "  .نمونه‌برداری کنیم"
      ]
    },
    {
      "cell_type": "markdown",
      "metadata": {
        "id": "eaAUwvPWXYbS"
      },
      "source": [
        "        \"\"\"\n",
        "        Inputs:\n",
        "            dataset_targets - PyTorch tensor of the labels of the data elements.\n",
        "            batch_size - Number of tasks to aggregate in a batch\n",
        "            N_way - Number of classes to sample per batch.\n",
        "            K_shot - Number of examples to sample per class in the batch.\n",
        "            include_query - If True, returns batch of size N_way*K_shot*2, which\n",
        "                            can be split into support and query set. Simplifies\n",
        "                            the implementation of sampling the same classes but\n",
        "                            distinct examples for support and query set.\n",
        "            shuffle - If True, examples and classes are newly shuffled in each\n",
        "                      iteration (for training)\n",
        "        \"\"\""
      ]
    },
    {
      "cell_type": "code",
      "execution_count": null,
      "metadata": {
        "id": "RPkTc-GiWB53"
      },
      "outputs": [],
      "source": [
        "class TaskBatchSampler(object):\n",
        "\n",
        "    def __init__(self, dataset_targets, batch_size, N_way, K_shot, include_query=False, shuffle=True):\n",
        "        super().__init__()\n",
        "        self.batch_sampler = FewShotBatchSampler(dataset_targets, N_way, K_shot, include_query, shuffle)\n",
        "        self.task_batch_size = batch_size\n",
        "        self.local_batch_size = self.batch_sampler.batch_size\n",
        "\n",
        "    def __iter__(self):\n",
        "        # Aggregate multiple batches before returning the indices\n",
        "        batch_list = []\n",
        "        for batch_idx, batch in enumerate(self.batch_sampler):\n",
        "            batch_list.extend(batch)\n",
        "            if (batch_idx+1) % self.task_batch_size == 0:\n",
        "                yield batch_list\n",
        "                batch_list = []\n",
        "\n",
        "    def __len__(self):\n",
        "        return len(self.batch_sampler)//self.task_batch_size\n",
        "\n",
        "    def get_collate_fn(self):\n",
        "        # Returns a collate function that converts one big tensor into a list of task-specific tensors\n",
        "        def collate_fn(item_list):\n",
        "            imgs = torch.stack([img for img, target in item_list], dim=0)\n",
        "            targets = torch.stack([target for img, target in item_list], dim=0)\n",
        "            imgs = imgs.chunk(self.task_batch_size, dim=0)\n",
        "            targets = targets.chunk(self.task_batch_size, dim=0)\n",
        "            return list(zip(imgs, targets))\n",
        "        return collate_fn"
      ]
    },
    {
      "cell_type": "code",
      "execution_count": null,
      "metadata": {
        "id": "B3v-ledpWFm_"
      },
      "outputs": [],
      "source": [
        "# Training constant (same as for ProtoNet)\n",
        "N_WAY = 5\n",
        "K_SHOT = 4\n",
        "\n",
        "# Training set\n",
        "train_protomaml_sampler = TaskBatchSampler(train_set.targets,\n",
        "                                           include_query=True,\n",
        "                                           N_way=N_WAY,\n",
        "                                           K_shot=K_SHOT,\n",
        "                                           batch_size=16)\n",
        "train_protomaml_loader = data.DataLoader(train_set,\n",
        "                                         batch_sampler=train_protomaml_sampler,\n",
        "                                         collate_fn=train_protomaml_sampler.get_collate_fn(),\n",
        "                                         num_workers=2)\n",
        "\n",
        "# Validation set\n",
        "val_protomaml_sampler = TaskBatchSampler(val_set.targets,\n",
        "                                         include_query=True,\n",
        "                                         N_way=N_WAY,\n",
        "                                         K_shot=K_SHOT,\n",
        "                                         batch_size=1,  # We do not update the parameters, hence the batch size is irrelevant here\n",
        "                                         shuffle=False)\n",
        "val_protomaml_loader = data.DataLoader(val_set,\n",
        "                                       batch_sampler=val_protomaml_sampler,\n",
        "                                       collate_fn=val_protomaml_sampler.get_collate_fn(),\n",
        "                                       num_workers=2)"
      ]
    },
    {
      "cell_type": "markdown",
      "metadata": {
        "id": "ULnoM3TcaAAU"
      },
      "source": [
        "## توضیح دهید\n",
        "\n",
        "حال می‌تون مدل را آموزش دهیم. از همان اندازه فضای ویژگی برای\n",
        "\n",
        "ProtoNet\n",
        "\n",
        "استفاده می‌شود، اما می‌توان از نرخ یادگیری بالاتری نسبت به لوپ خارجی استفاده کرد.\n",
        "به نظر شما چرا؟\n"
      ]
    },
    {
      "cell_type": "code",
      "execution_count": null,
      "metadata": {
        "id": "XzXPzjUJWJdf"
      },
      "outputs": [],
      "source": [
        "protomaml_model = train_model(ProtoMAML,\n",
        "                              proto_dim=64,\n",
        "                              lr=1e-3,\n",
        "                              lr_inner=0.1,\n",
        "                              lr_output=0.1,\n",
        "                              num_inner_steps=1,  # Often values between 1 and 10\n",
        "                              train_loader=train_protomaml_loader,\n",
        "                              val_loader=val_protomaml_loader)"
      ]
    },
    {
      "cell_type": "markdown",
      "metadata": {
        "id": "fR90gEbbbA37"
      },
      "source": [
        "## تحلیل کنید\n",
        "\n",
        "**تنسوربورد زیر را تحلیل کنید**\n",
        "و با\n",
        "\n",
        "**ProtoNet**\n",
        "\n",
        "مقایسه کنید"
      ]
    },
    {
      "cell_type": "code",
      "execution_count": null,
      "metadata": {
        "id": "X7hhDCXhWMt3"
      },
      "outputs": [],
      "source": [
        "# Opens tensorboard in notebook. Adjust the path to your CHECKPOINT_PATH if needed\n",
        "%tensorboard --logdir ../saved_models/tutorial16/tensorboards/ProtoMAML/"
      ]
    },
    {
      "cell_type": "markdown",
      "metadata": {
        "id": "-tWyKc1Sbm3-"
      },
      "source": [
        "## ارزیابی"
      ]
    },
    {
      "cell_type": "code",
      "execution_count": null,
      "metadata": {
        "id": "l-v7wg-gWQ8-"
      },
      "outputs": [],
      "source": [
        "def test_protomaml(model, dataset, k_shot=4):\n",
        "    pl.seed_everything(42)\n",
        "    model = model.to(device)\n",
        "    num_classes = dataset.targets.unique().shape[0]\n",
        "    exmps_per_class = dataset.targets.shape[0]//num_classes\n",
        "\n",
        "    # Data loader for full test set as query set\n",
        "    full_dataloader = data.DataLoader(dataset,\n",
        "                                      batch_size=128,\n",
        "                                      num_workers=4,\n",
        "                                      shuffle=False,\n",
        "                                      drop_last=False)\n",
        "    # Data loader for sampling support sets\n",
        "    sampler = FewShotBatchSampler(dataset.targets,\n",
        "                                  include_query=False,\n",
        "                                  N_way=num_classes,\n",
        "                                  K_shot=k_shot,\n",
        "                                  shuffle=False,\n",
        "                                  shuffle_once=False)\n",
        "    sample_dataloader = data.DataLoader(dataset,\n",
        "                                        batch_sampler=sampler,\n",
        "                                        num_workers=2)\n",
        "\n",
        "    # We iterate through the full dataset in two manners. First, to select the k-shot batch.\n",
        "    # Second, the evaluate the model on all other examples\n",
        "    accuracies = []\n",
        "    for (support_imgs, support_targets), support_indices in tqdm(zip(sample_dataloader, sampler), \"Performing few-shot finetuning\"):\n",
        "        support_imgs = support_imgs.to(device)\n",
        "        support_targets = support_targets.to(device)\n",
        "        # Finetune new model on support set\n",
        "        local_model, output_weight, output_bias, classes = model.adapt_few_shot(support_imgs, support_targets)\n",
        "        with torch.no_grad():  # No gradients for query set needed\n",
        "            local_model.eval()\n",
        "            batch_acc = torch.zeros((0,), dtype=torch.float32, device=device)\n",
        "            # Evaluate all examples in test dataset\n",
        "            for query_imgs, query_targets in full_dataloader:\n",
        "                query_imgs = query_imgs.to(device)\n",
        "                query_targets = query_targets.to(device)\n",
        "                query_labels = (classes[None,:] == query_targets[:,None]).long().argmax(dim=-1)\n",
        "                _, _, acc = model.run_model(local_model, output_weight, output_bias, query_imgs, query_labels)\n",
        "                batch_acc = torch.cat([batch_acc, acc.detach()], dim=0)\n",
        "            # Exclude support set elements\n",
        "            for s_idx in support_indices:\n",
        "                batch_acc[s_idx] = 0\n",
        "            batch_acc = batch_acc.sum().item() / (batch_acc.shape[0] - len(support_indices))\n",
        "            accuracies.append(batch_acc)\n",
        "    return mean(accuracies), stdev(accuracies)"
      ]
    },
    {
      "cell_type": "markdown",
      "metadata": {
        "id": "TOb8aAZSbzBU"
      },
      "source": [
        "در مقایسه با مرحله آموزش، توصیه می‌شود در طول تست از به‌روزرسانی حلقه داخلی استفاده شود. در طول آموزش، ما قصدی برای دریافت بهترین مدل از حلقه داخلی نداریم، بلکه به مدلی علاقه‌مندیم که بتوان بهترین گرادیان‌ها را ارائه دهد. از این رو، ممکن است یک به‌روز‌رسانی در حال حاضر در آموزش کافی باشد، اما برای تست، اغلب مشاهده شده است که تعداد بیشتری از به‌روز‌رسانی‌ها می‌توانند عملکرد مدل را به صورت قابل توجهی افزایش دهند. بنابراین، قبل از تست، به‌روز‌رسانی حلقه داخلی را به 200 تغییر می‌دهیم."
      ]
    },
    {
      "cell_type": "code",
      "execution_count": null,
      "metadata": {
        "id": "IXkHwLqfWS6H"
      },
      "outputs": [],
      "source": [
        "protomaml_model.hparams.num_inner_steps = 200"
      ]
    },
    {
      "cell_type": "markdown",
      "metadata": {
        "id": "x_OBZlOvckYR"
      },
      "source": [
        "اکنون می‌توان مدل خود را تست کنیم. برای مدل های از قبل آموزش دیده، یک فایل\n",
        "\n",
        "json\n",
        "\n",
        "با نتایج ارائه شده است تا زمان ارزیابی کاهش یابد."
      ]
    },
    {
      "cell_type": "code",
      "execution_count": null,
      "metadata": {
        "id": "qQXoOSJ_WWVY"
      },
      "outputs": [],
      "source": [
        "protomaml_result_file = os.path.join(CHECKPOINT_PATH, \"protomaml_fewshot.json\")\n",
        "\n",
        "if os.path.isfile(protomaml_result_file):\n",
        "    # Load pre-computed results\n",
        "    with open(protomaml_result_file, 'r') as f:\n",
        "        protomaml_accuracies = json.load(f)\n",
        "    protomaml_accuracies = {int(k): v for k, v in protomaml_accuracies.items()}\n",
        "else:\n",
        "    # Perform same experiments as for ProtoNet\n",
        "    protomaml_accuracies = dict()\n",
        "    for k in [2, 4, 8, 16, 32]:\n",
        "        protomaml_accuracies[k] = test_protomaml(protomaml_model, test_set, k_shot=k)\n",
        "    # Export results\n",
        "    with open(protomaml_result_file, 'w') as f:\n",
        "        json.dump(protomaml_accuracies, f, indent=4)\n",
        "\n",
        "for k in protomaml_accuracies:\n",
        "    print(f\"Accuracy for k={k}: {100.0*protomaml_accuracies[k][0]:4.2f}% (+-{100.0*protomaml_accuracies[k][1]:4.2f}%)\")"
      ]
    },
    {
      "cell_type": "markdown",
      "metadata": {
        "id": "kGvG22pec07f"
      },
      "source": [
        "## تحلیل کنید\n",
        "\n",
        "نمودار زیر را تحلیل کنید"
      ]
    },
    {
      "cell_type": "code",
      "execution_count": null,
      "metadata": {
        "id": "KcI10uXaWat2"
      },
      "outputs": [],
      "source": [
        "ax = plot_few_shot(protonet_accuracies, name=\"ProtoNet\", color=\"C1\")\n",
        "plot_few_shot(protomaml_accuracies, name=\"ProtoMAML\", color=\"C2\", ax=ax)\n",
        "plt.show()\n",
        "plt.close()"
      ]
    },
    {
      "cell_type": "markdown",
      "metadata": {
        "id": "xhAsrsgqKRii"
      },
      "source": [
        "# سوال امتیازی\n",
        "#### همین روند را با یکی از مدل‌های\n",
        "#### MAML or Reptile\n",
        "#### پیاده‌سازی کنید"
      ]
    }
  ],
  "metadata": {
    "colab": {
      "provenance": [],
      "gpuType": "T4"
    },
    "kernelspec": {
      "display_name": "Python 3",
      "name": "python3"
    },
    "language_info": {
      "name": "python"
    },
    "accelerator": "GPU"
  },
  "nbformat": 4,
  "nbformat_minor": 0
}